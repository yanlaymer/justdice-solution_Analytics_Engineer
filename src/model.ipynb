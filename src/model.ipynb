{
 "cells": [
  {
   "cell_type": "code",
   "execution_count": 85,
   "metadata": {},
   "outputs": [],
   "source": [
    "import pandas as pd\n",
    "from sklearn.linear_model import LinearRegression\n",
    "from sklearn.model_selection import train_test_split\n",
    "from sklearn.metrics import mean_squared_error\n",
    "from sklearn.metrics import r2_score\n",
    "from sklearn.preprocessing import StandardScaler\n",
    "\n",
    "import numpy as np"
   ]
  },
  {
   "attachments": {},
   "cell_type": "markdown",
   "metadata": {},
   "source": [
    "Revenue predicting module"
   ]
  },
  {
   "cell_type": "code",
   "execution_count": 86,
   "metadata": {},
   "outputs": [],
   "source": [
    "adspend = pd.read_csv('/Users/nalrunyan/Documents/JustDice-Analytics-Engineer-Hiring-Case/data/adspend.csv', parse_dates=['event_date'])\n",
    "installs = pd.read_csv('/Users/nalrunyan/Documents/JustDice-Analytics-Engineer-Hiring-Case/data/installs.csv', parse_dates=['event_date'])\n",
    "payouts = pd.read_csv('/Users/nalrunyan/Documents/JustDice-Analytics-Engineer-Hiring-Case/data/payouts.csv', parse_dates=['event_date'])\n",
    "revenue = pd.read_csv('/Users/nalrunyan/Documents/JustDice-Analytics-Engineer-Hiring-Case/data/revenue.csv', parse_dates=['event_date'])"
   ]
  },
  {
   "cell_type": "code",
   "execution_count": 87,
   "metadata": {},
   "outputs": [],
   "source": [
    "payouts = payouts.groupby('install_id')['value_usd'].sum().reset_index()\n",
    "revenue = revenue.groupby('install_id')['value_usd'].sum().reset_index()"
   ]
  },
  {
   "cell_type": "code",
   "execution_count": 88,
   "metadata": {},
   "outputs": [],
   "source": [
    "adspend = adspend.groupby(['country_id'])['value_usd'].sum().reset_index()"
   ]
  },
  {
   "cell_type": "code",
   "execution_count": 89,
   "metadata": {},
   "outputs": [
    {
     "data": {
      "text/html": [
       "<div>\n",
       "<style scoped>\n",
       "    .dataframe tbody tr th:only-of-type {\n",
       "        vertical-align: middle;\n",
       "    }\n",
       "\n",
       "    .dataframe tbody tr th {\n",
       "        vertical-align: top;\n",
       "    }\n",
       "\n",
       "    .dataframe thead th {\n",
       "        text-align: right;\n",
       "    }\n",
       "</style>\n",
       "<table border=\"1\" class=\"dataframe\">\n",
       "  <thead>\n",
       "    <tr style=\"text-align: right;\">\n",
       "      <th></th>\n",
       "      <th>country_id</th>\n",
       "      <th>value_usd</th>\n",
       "    </tr>\n",
       "  </thead>\n",
       "  <tbody>\n",
       "    <tr>\n",
       "      <th>0</th>\n",
       "      <td>1</td>\n",
       "      <td>243186.687782</td>\n",
       "    </tr>\n",
       "    <tr>\n",
       "      <th>1</th>\n",
       "      <td>17</td>\n",
       "      <td>334.392000</td>\n",
       "    </tr>\n",
       "    <tr>\n",
       "      <th>2</th>\n",
       "      <td>109</td>\n",
       "      <td>10053.718011</td>\n",
       "    </tr>\n",
       "    <tr>\n",
       "      <th>3</th>\n",
       "      <td>213</td>\n",
       "      <td>501.178006</td>\n",
       "    </tr>\n",
       "  </tbody>\n",
       "</table>\n",
       "</div>"
      ],
      "text/plain": [
       "   country_id      value_usd\n",
       "0           1  243186.687782\n",
       "1          17     334.392000\n",
       "2         109   10053.718011\n",
       "3         213     501.178006"
      ]
     },
     "execution_count": 89,
     "metadata": {},
     "output_type": "execute_result"
    }
   ],
   "source": [
    "adspend"
   ]
  },
  {
   "cell_type": "code",
   "execution_count": 90,
   "metadata": {},
   "outputs": [],
   "source": [
    "df = pd.merge(adspend, installs, on=['country_id'], how='right', suffixes=('_adspend', '_installs'))"
   ]
  },
  {
   "cell_type": "code",
   "execution_count": 91,
   "metadata": {},
   "outputs": [],
   "source": [
    "df = pd.merge(df, payouts, on=['install_id'], how='inner', suffixes=('_adspend', '_payouts'))"
   ]
  },
  {
   "cell_type": "code",
   "execution_count": 92,
   "metadata": {},
   "outputs": [],
   "source": [
    "df = pd.merge(df, revenue, on=['install_id'], how='left', suffixes=('_adspend', '_revenue'))"
   ]
  },
  {
   "cell_type": "code",
   "execution_count": 93,
   "metadata": {},
   "outputs": [],
   "source": [
    "df = df.fillna(0)"
   ]
  },
  {
   "cell_type": "code",
   "execution_count": 94,
   "metadata": {},
   "outputs": [],
   "source": [
    "df.rename({'value_usd_adspend': 'adspend', 'value_usd_payouts': 'payouts', 'value_usd': 'revenue'}, axis=1, inplace=True)"
   ]
  },
  {
   "cell_type": "code",
   "execution_count": 95,
   "metadata": {},
   "outputs": [
    {
     "data": {
      "text/html": [
       "<div>\n",
       "<style scoped>\n",
       "    .dataframe tbody tr th:only-of-type {\n",
       "        vertical-align: middle;\n",
       "    }\n",
       "\n",
       "    .dataframe tbody tr th {\n",
       "        vertical-align: top;\n",
       "    }\n",
       "\n",
       "    .dataframe thead th {\n",
       "        text-align: right;\n",
       "    }\n",
       "</style>\n",
       "<table border=\"1\" class=\"dataframe\">\n",
       "  <thead>\n",
       "    <tr style=\"text-align: right;\">\n",
       "      <th></th>\n",
       "      <th>country_id</th>\n",
       "      <th>adspend</th>\n",
       "      <th>install_id</th>\n",
       "      <th>app_id</th>\n",
       "      <th>network_id</th>\n",
       "      <th>event_date</th>\n",
       "      <th>device_os_version</th>\n",
       "      <th>payouts</th>\n",
       "      <th>revenue</th>\n",
       "    </tr>\n",
       "  </thead>\n",
       "  <tbody>\n",
       "    <tr>\n",
       "      <th>0</th>\n",
       "      <td>1</td>\n",
       "      <td>243186.687782</td>\n",
       "      <td>2eba0b65d2c31d2d07cfd254c04df6d205c711dee9b97e...</td>\n",
       "      <td>97</td>\n",
       "      <td>26</td>\n",
       "      <td>2022-12-19</td>\n",
       "      <td>12</td>\n",
       "      <td>16.098362</td>\n",
       "      <td>20.700000</td>\n",
       "    </tr>\n",
       "    <tr>\n",
       "      <th>1</th>\n",
       "      <td>1</td>\n",
       "      <td>243186.687782</td>\n",
       "      <td>0daca836eb21c5d66f22d5b7473f10da9f9b2c5d861569...</td>\n",
       "      <td>73</td>\n",
       "      <td>10</td>\n",
       "      <td>2022-12-07</td>\n",
       "      <td>8.0.0</td>\n",
       "      <td>0.357544</td>\n",
       "      <td>0.670000</td>\n",
       "    </tr>\n",
       "    <tr>\n",
       "      <th>2</th>\n",
       "      <td>1</td>\n",
       "      <td>243186.687782</td>\n",
       "      <td>43ce7034f5bd46cd6cbf6be236fd7aba76e74c22ccfe40...</td>\n",
       "      <td>256</td>\n",
       "      <td>26</td>\n",
       "      <td>2022-12-06</td>\n",
       "      <td>11</td>\n",
       "      <td>4.206400</td>\n",
       "      <td>22.500000</td>\n",
       "    </tr>\n",
       "    <tr>\n",
       "      <th>3</th>\n",
       "      <td>1</td>\n",
       "      <td>243186.687782</td>\n",
       "      <td>bd16c671431964a0ecb5952297c8a0a85fd148a0986f3e...</td>\n",
       "      <td>256</td>\n",
       "      <td>26</td>\n",
       "      <td>2022-12-14</td>\n",
       "      <td>11</td>\n",
       "      <td>4.185057</td>\n",
       "      <td>22.500000</td>\n",
       "    </tr>\n",
       "    <tr>\n",
       "      <th>4</th>\n",
       "      <td>1</td>\n",
       "      <td>243186.687782</td>\n",
       "      <td>bd31dddb8cebc84dfdab25327b6cf66f92709c4d4db72f...</td>\n",
       "      <td>174</td>\n",
       "      <td>26</td>\n",
       "      <td>2022-12-26</td>\n",
       "      <td>13</td>\n",
       "      <td>5.024492</td>\n",
       "      <td>24.160000</td>\n",
       "    </tr>\n",
       "    <tr>\n",
       "      <th>...</th>\n",
       "      <td>...</td>\n",
       "      <td>...</td>\n",
       "      <td>...</td>\n",
       "      <td>...</td>\n",
       "      <td>...</td>\n",
       "      <td>...</td>\n",
       "      <td>...</td>\n",
       "      <td>...</td>\n",
       "      <td>...</td>\n",
       "    </tr>\n",
       "    <tr>\n",
       "      <th>20934</th>\n",
       "      <td>1</td>\n",
       "      <td>243186.687782</td>\n",
       "      <td>b86c58e4b61128270994574b2bb55618c175c8edf27ec5...</td>\n",
       "      <td>94</td>\n",
       "      <td>10</td>\n",
       "      <td>2022-01-01</td>\n",
       "      <td>10</td>\n",
       "      <td>7.998409</td>\n",
       "      <td>24.750000</td>\n",
       "    </tr>\n",
       "    <tr>\n",
       "      <th>20935</th>\n",
       "      <td>1</td>\n",
       "      <td>243186.687782</td>\n",
       "      <td>17592ada1886cb77827b31288a24ea8a60e5eb2863a846...</td>\n",
       "      <td>94</td>\n",
       "      <td>10</td>\n",
       "      <td>2022-01-04</td>\n",
       "      <td>11</td>\n",
       "      <td>0.386070</td>\n",
       "      <td>0.980000</td>\n",
       "    </tr>\n",
       "    <tr>\n",
       "      <th>20936</th>\n",
       "      <td>109</td>\n",
       "      <td>10053.718011</td>\n",
       "      <td>5dccd421b8892ec41a434766731715156beeaa3a219c2a...</td>\n",
       "      <td>97</td>\n",
       "      <td>60</td>\n",
       "      <td>2022-01-08</td>\n",
       "      <td>11</td>\n",
       "      <td>0.282450</td>\n",
       "      <td>1.400000</td>\n",
       "    </tr>\n",
       "    <tr>\n",
       "      <th>20937</th>\n",
       "      <td>1</td>\n",
       "      <td>243186.687782</td>\n",
       "      <td>414229afd514718d4659be8084578bfd1ac7b87f44c328...</td>\n",
       "      <td>104</td>\n",
       "      <td>60</td>\n",
       "      <td>2022-01-08</td>\n",
       "      <td>11</td>\n",
       "      <td>4.899088</td>\n",
       "      <td>6.340000</td>\n",
       "    </tr>\n",
       "    <tr>\n",
       "      <th>20938</th>\n",
       "      <td>1</td>\n",
       "      <td>243186.687782</td>\n",
       "      <td>309e3f0babe204281d145a9431dd59737ea58644315150...</td>\n",
       "      <td>174</td>\n",
       "      <td>60</td>\n",
       "      <td>2022-01-08</td>\n",
       "      <td>11</td>\n",
       "      <td>29.102994</td>\n",
       "      <td>46.132988</td>\n",
       "    </tr>\n",
       "  </tbody>\n",
       "</table>\n",
       "<p>20939 rows × 9 columns</p>\n",
       "</div>"
      ],
      "text/plain": [
       "       country_id        adspend  \\\n",
       "0               1  243186.687782   \n",
       "1               1  243186.687782   \n",
       "2               1  243186.687782   \n",
       "3               1  243186.687782   \n",
       "4               1  243186.687782   \n",
       "...           ...            ...   \n",
       "20934           1  243186.687782   \n",
       "20935           1  243186.687782   \n",
       "20936         109   10053.718011   \n",
       "20937           1  243186.687782   \n",
       "20938           1  243186.687782   \n",
       "\n",
       "                                              install_id  app_id  network_id  \\\n",
       "0      2eba0b65d2c31d2d07cfd254c04df6d205c711dee9b97e...      97          26   \n",
       "1      0daca836eb21c5d66f22d5b7473f10da9f9b2c5d861569...      73          10   \n",
       "2      43ce7034f5bd46cd6cbf6be236fd7aba76e74c22ccfe40...     256          26   \n",
       "3      bd16c671431964a0ecb5952297c8a0a85fd148a0986f3e...     256          26   \n",
       "4      bd31dddb8cebc84dfdab25327b6cf66f92709c4d4db72f...     174          26   \n",
       "...                                                  ...     ...         ...   \n",
       "20934  b86c58e4b61128270994574b2bb55618c175c8edf27ec5...      94          10   \n",
       "20935  17592ada1886cb77827b31288a24ea8a60e5eb2863a846...      94          10   \n",
       "20936  5dccd421b8892ec41a434766731715156beeaa3a219c2a...      97          60   \n",
       "20937  414229afd514718d4659be8084578bfd1ac7b87f44c328...     104          60   \n",
       "20938  309e3f0babe204281d145a9431dd59737ea58644315150...     174          60   \n",
       "\n",
       "      event_date device_os_version    payouts    revenue  \n",
       "0     2022-12-19                12  16.098362  20.700000  \n",
       "1     2022-12-07             8.0.0   0.357544   0.670000  \n",
       "2     2022-12-06                11   4.206400  22.500000  \n",
       "3     2022-12-14                11   4.185057  22.500000  \n",
       "4     2022-12-26                13   5.024492  24.160000  \n",
       "...          ...               ...        ...        ...  \n",
       "20934 2022-01-01                10   7.998409  24.750000  \n",
       "20935 2022-01-04                11   0.386070   0.980000  \n",
       "20936 2022-01-08                11   0.282450   1.400000  \n",
       "20937 2022-01-08                11   4.899088   6.340000  \n",
       "20938 2022-01-08                11  29.102994  46.132988  \n",
       "\n",
       "[20939 rows x 9 columns]"
      ]
     },
     "execution_count": 95,
     "metadata": {},
     "output_type": "execute_result"
    }
   ],
   "source": [
    "df"
   ]
  },
  {
   "cell_type": "code",
   "execution_count": 96,
   "metadata": {},
   "outputs": [],
   "source": [
    "df = pd.get_dummies(df, columns=['country_id', 'network_id', 'app_id'])"
   ]
  },
  {
   "cell_type": "code",
   "execution_count": 80,
   "metadata": {},
   "outputs": [],
   "source": [
    "X = df.drop(['install_id', 'revenue', 'device_os_version', 'adspend', 'event_date'], axis=1)\n",
    "y = df['revenue']\n",
    "X_train, X_test, y_train, y_test = train_test_split(X, y, test_size=0.2, random_state=42)\n"
   ]
  },
  {
   "cell_type": "code",
   "execution_count": 81,
   "metadata": {},
   "outputs": [
    {
     "name": "stderr",
     "output_type": "stream",
     "text": [
      "/Users/nalrunyan/opt/anaconda3/lib/python3.9/site-packages/xgboost/data.py:250: FutureWarning: pandas.Int64Index is deprecated and will be removed from pandas in a future version. Use pandas.Index with the appropriate dtype instead.\n",
      "  elif isinstance(data.columns, (pd.Int64Index, pd.RangeIndex)):\n"
     ]
    },
    {
     "data": {
      "image/png": "[encoded data removed]",
      "text/plain": [
       "<Figure size 432x288 with 1 Axes>"
      ]
     },
     "metadata": {
      "needs_background": "light"
     },
     "output_type": "display_data"
    }
   ],
   "source": [
    "from matplotlib import pyplot\n",
    "from xgboost import plot_importance\n",
    "from xgboost import XGBRegressor\n",
    "\n",
    "model = XGBRegressor()\n",
    "\n",
    "model.fit(X_train, y_train)\n",
    "\n",
    "plot_importance(model)\n",
    "pyplot.show()"
   ]
  },
  {
   "cell_type": "code",
   "execution_count": 82,
   "metadata": {},
   "outputs": [
    {
     "name": "stdout",
     "output_type": "stream",
     "text": [
      "payouts 0.21049657\n",
      "country_id_1 0.13096176\n",
      "country_id_17 0.022498948\n",
      "country_id_109 0.06321748\n",
      "country_id_213 0.00066426233\n",
      "network_id_10 0.016322209\n",
      "network_id_26 0.03810351\n",
      "network_id_60 0.030216496\n",
      "network_id_1111 0.027026903\n",
      "app_id_71 0.022281598\n",
      "app_id_73 0.008455003\n",
      "app_id_94 0.021193793\n",
      "app_id_95 0.01660537\n",
      "app_id_97 0.012700068\n",
      "app_id_104 0.029199168\n",
      "app_id_110 0.0076266555\n",
      "app_id_120 0.0\n",
      "app_id_121 0.010958667\n",
      "app_id_122 0.03593166\n",
      "app_id_148 0.004565895\n",
      "app_id_152 0.0\n",
      "app_id_154 0.004394535\n",
      "app_id_174 0.018712875\n",
      "app_id_189 0.0061838776\n",
      "app_id_237 0.01335139\n",
      "app_id_256 0.07287443\n",
      "app_id_275 0.011996599\n",
      "app_id_302 0.05329401\n",
      "app_id_321 0.0\n",
      "app_id_370 0.029746056\n",
      "app_id_374 0.025043475\n",
      "app_id_380 0.032804027\n",
      "app_id_390 0.015702533\n",
      "app_id_402 0.0021765735\n",
      "app_id_405 0.0046935864\n"
     ]
    }
   ],
   "source": [
    "# print columns: importance\n",
    "for i in range(len(model.feature_importances_)):\n",
    "    print(X.columns[i], model.feature_importances_[i])\n",
    "\n",
    "# print columns: importance\n"
   ]
  },
  {
   "cell_type": "code",
   "execution_count": 83,
   "metadata": {},
   "outputs": [
    {
     "name": "stdout",
     "output_type": "stream",
     "text": [
      "MSE: 38.259\n",
      "R2: 0.774\n"
     ]
    }
   ],
   "source": [
    "# metrics\n",
    "y_pred = model.predict(X_test)\n",
    "mse = mean_squared_error(y_test, y_pred)\n",
    "r2 = r2_score(y_test, y_pred)\n",
    "print('MSE: %.3f' % mse)\n",
    "print('R2: %.3f' % r2)"
   ]
  },
  {
   "attachments": {},
   "cell_type": "markdown",
   "metadata": {},
   "source": [
    "Based on the future importance of the trained model and the result metrics, here are some potential business insights that can be derived:\n",
    "\n",
    "1. Payouts have the highest importance in predicting revenue generation, with a feature importance of 0.210. This indicates that the payout amounts paid to affiliates or publishers for generating specific actions such as app installs have a significant impact on revenue generation.\n",
    "2. The top five important country IDs in predicting revenue generation are country_id_1, country_id_109, country_id_17, country_id_213, and network_id_26. This suggests that advertisers should focus their ad spending on these countries or networks to maximize revenue generation.\n",
    "3. The top five important app IDs in predicting revenue generation are app_id_256, app_id_302, app_id_380, app_id_122, and app_id_104. This indicates that advertisers should focus their ad spending on these apps to maximize revenue generation.\n",
    "4. The R2 score of 0.774 indicates that the model can explain 77.4% of the variance in the revenue generation, which is a reasonably good fit. However, the MSE of 38.259 suggests that there is some error in the model's predictions, and further optimization may be required.\n",
    "5. Based on the model's insights, advertisers can optimize their ad spending by targeting the top-performing countries, networks, and apps and adjusting their payout amounts to affiliates or publishers for generating specific actions. By doing so, they can maximize their revenue generation and improve the return on their ad spend."
   ]
  },
  {
   "cell_type": "code",
   "execution_count": 101,
   "metadata": {},
   "outputs": [],
   "source": [
    "df.event_date = pd.to_datetime(df.event_date)"
   ]
  },
  {
   "cell_type": "code",
   "execution_count": 112,
   "metadata": {},
   "outputs": [
    {
     "name": "stderr",
     "output_type": "stream",
     "text": [
      "/Users/nalrunyan/opt/anaconda3/lib/python3.9/site-packages/statsmodels/tsa/base/tsa_model.py:471: ValueWarning: A date index has been provided, but it has no associated frequency information and so will be ignored when e.g. forecasting.\n",
      "  self._init_dates(dates, freq)\n",
      "/Users/nalrunyan/opt/anaconda3/lib/python3.9/site-packages/statsmodels/tsa/base/tsa_model.py:471: ValueWarning: A date index has been provided, but it is not monotonic and so will be ignored when e.g. forecasting.\n",
      "  self._init_dates(dates, freq)\n",
      "/Users/nalrunyan/opt/anaconda3/lib/python3.9/site-packages/statsmodels/tsa/base/tsa_model.py:471: ValueWarning: A date index has been provided, but it has no associated frequency information and so will be ignored when e.g. forecasting.\n",
      "  self._init_dates(dates, freq)\n",
      "/Users/nalrunyan/opt/anaconda3/lib/python3.9/site-packages/statsmodels/tsa/base/tsa_model.py:471: ValueWarning: A date index has been provided, but it is not monotonic and so will be ignored when e.g. forecasting.\n",
      "  self._init_dates(dates, freq)\n"
     ]
    },
    {
     "name": "stdout",
     "output_type": "stream",
     "text": [
      "RUNNING THE L-BFGS-B CODE\n",
      "\n",
      "           * * *\n",
      "\n",
      "Machine precision = 2.220D-16\n",
      " N =            5     M =           10\n",
      "\n",
      "At X0         0 variables are exactly at the bounds\n",
      "\n",
      "At iterate    0    f=  4.19632D+00    |proj g|=  7.71295D-02\n"
     ]
    },
    {
     "name": "stderr",
     "output_type": "stream",
     "text": [
      " This problem is unconstrained.\n"
     ]
    },
    {
     "name": "stdout",
     "output_type": "stream",
     "text": [
      "\n",
      "At iterate    5    f=  4.05927D+00    |proj g|=  2.70406D-02\n",
      "\n",
      "At iterate   10    f=  3.95351D+00    |proj g|=  6.56252D-04\n",
      "\n",
      "At iterate   15    f=  3.95327D+00    |proj g|=  7.80542D-03\n",
      "\n",
      "At iterate   20    f=  3.95220D+00    |proj g|=  2.66812D-03\n",
      "\n",
      "At iterate   25    f=  3.95218D+00    |proj g|=  1.12459D-04\n",
      "\n",
      "           * * *\n",
      "\n",
      "Tit   = total number of iterations\n",
      "Tnf   = total number of function evaluations\n",
      "Tnint = total number of segments explored during Cauchy searches\n",
      "Skip  = number of BFGS updates skipped\n",
      "Nact  = number of active bounds at final generalized Cauchy point\n",
      "Projg = norm of the final projected gradient\n",
      "F     = final function value\n",
      "\n",
      "           * * *\n",
      "\n",
      "   N    Tit     Tnf  Tnint  Skip  Nact     Projg        F\n",
      "    5     27     40      1     0     0   9.606D-05   3.952D+00\n",
      "  F =   3.9521755191471177     \n",
      "\n",
      "CONVERGENCE: REL_REDUCTION_OF_F_<=_FACTR*EPSMCH             \n"
     ]
    }
   ],
   "source": [
    "import pandas as pd\n",
    "from statsmodels.tsa.statespace.sarimax import SARIMAX\n",
    "\n",
    "# Load the data\n",
    "X = df.drop(['install_id', 'payouts', 'device_os_version', 'adspend'], axis=1).set_index('event_date')\n",
    "\n",
    "\n",
    "# Define the SARIMA model\n",
    "model = SARIMAX(X['revenue'], order=(1, 1, 1), seasonal_order=(1, 1, 1, 12))\n",
    "\n",
    "# Fit the model\n",
    "model_fit = model.fit()"
   ]
  },
  {
   "cell_type": "code",
   "execution_count": 121,
   "metadata": {},
   "outputs": [
    {
     "name": "stderr",
     "output_type": "stream",
     "text": [
      "/Users/nalrunyan/opt/anaconda3/lib/python3.9/site-packages/statsmodels/tsa/base/tsa_model.py:834: ValueWarning: No supported index is available. Prediction results will be given with an integer index beginning at `start`.\n",
      "  return get_prediction_index(\n"
     ]
    }
   ],
   "source": [
    "# prediction for next 90 days\n",
    "predictions = model_fit.predict(start=len(X), end=len(X)+90, dynamic=True)"
   ]
  },
  {
   "cell_type": "code",
   "execution_count": 122,
   "metadata": {},
   "outputs": [
    {
     "data": {
      "text/plain": [
       "20939    8.825430\n",
       "20940    7.360124\n",
       "20941    7.633201\n",
       "20942    7.996108\n",
       "20943    8.295565\n",
       "           ...   \n",
       "21025    7.313496\n",
       "21026    7.786231\n",
       "21027    7.895784\n",
       "21028    7.376406\n",
       "21029    7.925661\n",
       "Name: predicted_mean, Length: 91, dtype: float64"
      ]
     },
     "execution_count": 122,
     "metadata": {},
     "output_type": "execute_result"
    }
   ],
   "source": [
    "predictions"
   ]
  },
  {
   "cell_type": "code",
   "execution_count": null,
   "metadata": {},
   "outputs": [],
   "source": []
  }
 ],
 "metadata": {
  "kernelspec": {
   "display_name": "base",
   "language": "python",
   "name": "python3"
  },
  "language_info": {
   "codemirror_mode": {
    "name": "ipython",
    "version": 3
   },
   "file_extension": ".py",
   "mimetype": "text/x-python",
   "name": "python",
   "nbconvert_exporter": "python",
   "pygments_lexer": "ipython3",
   "version": "3.9.12"
  },
  "orig_nbformat": 4
 },
 "nbformat": 4,
 "nbformat_minor": 2
}
